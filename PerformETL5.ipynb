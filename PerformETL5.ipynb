{
  "cells": [
    {
      "cell_type": "code",
      "execution_count": null,
      "metadata": {},
      "outputs": [],
      "source": [
        "import os\n",
        "# Find the latest version of spark 3.0 from http://www.apache.org/dist/spark/ and enter as the spark version\n",
        "# For example:\n",
        "# spark_version = 'spark-3.3.1'\n",
        "spark_version = 'spark-3.3.1'\n",
        "os.environ['SPARK_VERSION']=spark_version\n",
        "\n",
        "# Install Spark and Java\n",
        "!apt-get update\n",
        "!apt-get install openjdk-11-jdk-headless -qq > /dev/null\n",
        "!wget -q http://www.apache.org/dist/spark/$SPARK_VERSION/$SPARK_VERSION-bin-hadoop3.tgz\n",
        "!tar xf $SPARK_VERSION-bin-hadoop3.tgz\n",
        "!pip install -q findspark\n",
        "\n",
        "# Set Environment Variables\n",
        "import os\n",
        "os.environ[\"JAVA_HOME\"] = \"/usr/lib/jvm/java-11-openjdk-amd64\"\n",
        "os.environ[\"SPARK_HOME\"] = f\"/content/{spark_version}-bin-hadoop3\"\n",
        "\n",
        "# Start a SparkSession\n",
        "import findspark\n",
        "findspark.init()\n",
        "print('All successful')"
      ]
    },
    {
      "cell_type": "code",
      "execution_count": null,
      "metadata": {
        "colab": {
          "base_uri": "https://localhost:8080/"
        },
        "id": "ZvcWjjIZmiCt",
        "outputId": "1c3cd539-d110-4b0f-fd08-9b4cc9b04b7b"
      },
      "outputs": [
        {
          "name": "stdout",
          "output_type": "stream",
          "text": [
            "--2022-11-13 16:57:23--  https://jdbc.postgresql.org/download/postgresql-42.5.0.jar\n",
            "Resolving jdbc.postgresql.org (jdbc.postgresql.org)... 72.32.157.228, 2001:4800:3e1:1::228\n",
            "Connecting to jdbc.postgresql.org (jdbc.postgresql.org)|72.32.157.228|:443... connected.\n",
            "HTTP request sent, awaiting response... 200 OK\n",
            "Length: 1046274 (1022K) [application/java-archive]\n",
            "Saving to: ‘postgresql-42.5.0.jar.2’\n",
            "\n",
            "postgresql-42.5.0.j 100%[===================>]   1022K  6.12MB/s    in 0.2s    \n",
            "\n",
            "2022-11-13 16:57:23 (6.12 MB/s) - ‘postgresql-42.5.0.jar.2’ saved [1046274/1046274]\n",
            "\n"
          ]
        }
      ],
      "source": [
        "# Download the Postgres driver that will allow Spark to interact with Postgres.\n",
        "!wget https://jdbc.postgresql.org/download/postgresql-42.5.0.jar"
      ]
    },
    {
      "cell_type": "code",
      "execution_count": null,
      "metadata": {
        "id": "FO3GzIpwrdnx"
      },
      "outputs": [],
      "source": [
        "from pyspark.sql import SparkSession\n",
        "spark = SparkSession.builder.appName(\"M16-Amazon-Challenge\").config(\"spark.driver.extraClassPath\",\"/content/postgresql-42.5.0.jar\").getOrCreate()"
      ]
    },
    {
      "cell_type": "code",
      "execution_count": null,
      "metadata": {
        "colab": {
          "base_uri": "https://localhost:8080/"
        },
        "id": "bmVjQ3WMrds6",
        "outputId": "248ea188-f4ef-4897-9000-e1483bf611dc"
      },
      "outputs": [
        {
          "name": "stdout",
          "output_type": "stream",
          "text": [
            "+-----------+-----------+--------------+----------+--------------+--------------------+----------------+-----------+-------------+-----------+----+-----------------+--------------------+--------------------+-------------------+\n",
            "|marketplace|customer_id|     review_id|product_id|product_parent|       product_title|product_category|star_rating|helpful_votes|total_votes|vine|verified_purchase|     review_headline|         review_body|        review_date|\n",
            "+-----------+-----------+--------------+----------+--------------+--------------------+----------------+-----------+-------------+-----------+----+-----------------+--------------------+--------------------+-------------------+\n",
            "|         US|   24371595|R27ZP1F1CD0C3Y|B004LLIL5A|     346014806|Amazon eGift Card...|       Gift Card|          5|            0|          0|   N|                Y|          Five Stars|Great birthday gi...|2015-08-31 00:00:00|\n",
            "|         US|   42489718| RJ7RSBCHUDNNE|B004LLIKVU|     473048287|Amazon.com eGift ...|       Gift Card|          5|            0|          0|   N|                Y|Gift card for the...|It's an Amazon gi...|2015-08-31 00:00:00|\n",
            "|         US|     861463|R1HVYBSKLQJI5S|B00IX1I3G6|     926539283|Amazon.com Gift C...|       Gift Card|          5|            0|          0|   N|                Y|          Five Stars|                Good|2015-08-31 00:00:00|\n",
            "|         US|   25283295|R2HAXF0IIYQBIR|B00IX1I3G6|     926539283|Amazon.com Gift C...|       Gift Card|          1|            0|          0|   N|                Y|            One Star|                Fair|2015-08-31 00:00:00|\n",
            "|         US|     397970| RNYLPX611NB7Q|B005ESMGV4|     379368939|Amazon.com Gift C...|       Gift Card|          5|            0|          0|   N|                Y|          Five Stars|I can't believe h...|2015-08-31 00:00:00|\n",
            "|         US|   18513645|R3ALA9XXMBEDZR|B004KNWWU4|     326384774|Amazon Gift Card ...|       Gift Card|          5|            0|          0|   N|                Y|Perfect for most ...|Perfect!  Nice & ...|2015-08-31 00:00:00|\n",
            "|         US|   22484620|R3R8PHAVJFTPDF|B004LLIKVU|     473048287|Amazon.com eGift ...|       Gift Card|          5|            0|          0|   N|                Y|          Five Stars|            excelent|2015-08-31 00:00:00|\n",
            "|         US|   14765851|R18WWEK8OIXE30|BT00CTP2EE|     775486538|Amazon.com Gift C...|       Gift Card|          5|            0|          0|   N|                Y|          Five Stars|Great and Safe Gi...|2015-08-31 00:00:00|\n",
            "|         US|   18751931|R1EGUNQON2J277|B004LLIKVU|     473048287|Amazon.com eGift ...|       Gift Card|          1|            0|          0|   N|                Y|            One Star|       What?????????|2015-08-31 00:00:00|\n",
            "|         US|   15100528|R21Z4M4L98CPU2|B004W8D102|     595099956|Amazon Gift Card ...|       Gift Card|          5|            0|          0|   N|                Y|          Five Stars|This was just too...|2015-08-31 00:00:00|\n",
            "|         US|    3559726| R6JH7A117FHFA|B004LLIKVU|     473048287|Amazon.com eGift ...|       Gift Card|          5|            0|          0|   N|                Y|          Five Stars|                Bien|2015-08-31 00:00:00|\n",
            "|         US|   23413911|R1XZHS8M1GCGI7|B004KNWWU4|     326384774|Amazon Gift Card ...|       Gift Card|          5|            1|          1|   N|                Y|         Always good|Easy to print fro...|2015-08-31 00:00:00|\n",
            "|         US|    2026222|R1DAI0N03SKRJN|B004LLIKVU|     473048287|Amazon.com eGift ...|       Gift Card|          5|            1|          1|   N|                Y|          Five Stars|Amazing with 10 d...|2015-08-31 00:00:00|\n",
            "|         US|   32956435|R2F6SKZOEYQRU3|B004LLIKVU|     473048287|Amazon.com eGift ...|       Gift Card|          5|            0|          0|   N|                N|          Five Stars|Remember Matthew ...|2015-08-31 00:00:00|\n",
            "|         US|   20241560| RIBOP6OEAZA47|B00H5BNLUS|     637715957|Amazon eGift Card...|       Gift Card|          5|            1|          1|   N|                Y|          Five Stars|                good|2015-08-31 00:00:00|\n",
            "|         US|   10670435|R15H8E7WD6XD29|B004KNWX6C|     763371347|Amazon Gift Card ...|       Gift Card|          5|            0|          0|   N|                Y|          Five Stars|Awesome way to se...|2015-08-31 00:00:00|\n",
            "|         US|   48872127| RVN4P3RU4F8IE|BT00CTOYC0|     506740729|Amazon.com $15 Gi...|       Gift Card|          5|            0|          0|   N|                Y|Quick Solution fo...|I love that I hav...|2015-08-31 00:00:00|\n",
            "|         US|     460630| RCS8F9JCAAXC7|B004LLIKVU|     473048287|Amazon.com eGift ...|       Gift Card|          4|            0|          0|   N|                Y|          Four Stars|Good gift. Easy t...|2015-08-31 00:00:00|\n",
            "|         US|   41238378| R6811C4E7UYL2|B00H5BMH44|      81025991|Amazon eGift Card...|       Gift Card|          5|            0|          0|   N|                Y|  Satisfied customer|Satisfied as usua...|2015-08-31 00:00:00|\n",
            "|         US|   14222739|R196T0NZ73TYIM|B005ESMMKE|     459536087|Amazon.com Gift C...|       Gift Card|          5|            1|          1|   N|                Y|          Five Stars|                nice|2015-08-31 00:00:00|\n",
            "+-----------+-----------+--------------+----------+--------------+--------------------+----------------+-----------+-------------+-----------+----+-----------------+--------------------+--------------------+-------------------+\n",
            "only showing top 20 rows\n",
            "\n"
          ]
        }
      ],
      "source": [
        "from pyspark import SparkFiles\n",
        "url = \"https://s3.amazonaws.com/amazon-reviews-pds/tsv/amazon_reviews_us_Gift_Card_v1_00.tsv.gz\"\n",
        "spark.sparkContext.addFile(url)\n",
        "df = spark.read.option(\"encoding\", \"UTF-8\").csv(SparkFiles.get(\"\"), sep=\"\\t\", header=True, inferSchema=True)\n",
        "df.show()"
      ]
    },
    {
      "cell_type": "markdown",
      "metadata": {
        "id": "uKs2QsUC3nOt"
      },
      "source": []
    },
    {
      "cell_type": "code",
      "execution_count": null,
      "metadata": {
        "colab": {
          "base_uri": "https://localhost:8080/"
        },
        "id": "8pVfjXikrdw0",
        "outputId": "f01bee9a-03ae-4a10-ba2b-161d6271ce07"
      },
      "outputs": [
        {
          "name": "stdout",
          "output_type": "stream",
          "text": [
            "+--------------+-----------+----------+--------------+-------------------+\n",
            "|     review_id|customer_id|product_id|product_parent|        review_date|\n",
            "+--------------+-----------+----------+--------------+-------------------+\n",
            "|R27ZP1F1CD0C3Y|   24371595|B004LLIL5A|     346014806|2015-08-31 00:00:00|\n",
            "| RJ7RSBCHUDNNE|   42489718|B004LLIKVU|     473048287|2015-08-31 00:00:00|\n",
            "|R1HVYBSKLQJI5S|     861463|B00IX1I3G6|     926539283|2015-08-31 00:00:00|\n",
            "|R2HAXF0IIYQBIR|   25283295|B00IX1I3G6|     926539283|2015-08-31 00:00:00|\n",
            "| RNYLPX611NB7Q|     397970|B005ESMGV4|     379368939|2015-08-31 00:00:00|\n",
            "|R3ALA9XXMBEDZR|   18513645|B004KNWWU4|     326384774|2015-08-31 00:00:00|\n",
            "|R3R8PHAVJFTPDF|   22484620|B004LLIKVU|     473048287|2015-08-31 00:00:00|\n",
            "|R18WWEK8OIXE30|   14765851|BT00CTP2EE|     775486538|2015-08-31 00:00:00|\n",
            "|R1EGUNQON2J277|   18751931|B004LLIKVU|     473048287|2015-08-31 00:00:00|\n",
            "|R21Z4M4L98CPU2|   15100528|B004W8D102|     595099956|2015-08-31 00:00:00|\n",
            "| R6JH7A117FHFA|    3559726|B004LLIKVU|     473048287|2015-08-31 00:00:00|\n",
            "|R1XZHS8M1GCGI7|   23413911|B004KNWWU4|     326384774|2015-08-31 00:00:00|\n",
            "|R1DAI0N03SKRJN|    2026222|B004LLIKVU|     473048287|2015-08-31 00:00:00|\n",
            "|R2F6SKZOEYQRU3|   32956435|B004LLIKVU|     473048287|2015-08-31 00:00:00|\n",
            "| RIBOP6OEAZA47|   20241560|B00H5BNLUS|     637715957|2015-08-31 00:00:00|\n",
            "|R15H8E7WD6XD29|   10670435|B004KNWX6C|     763371347|2015-08-31 00:00:00|\n",
            "| RVN4P3RU4F8IE|   48872127|BT00CTOYC0|     506740729|2015-08-31 00:00:00|\n",
            "| RCS8F9JCAAXC7|     460630|B004LLIKVU|     473048287|2015-08-31 00:00:00|\n",
            "| R6811C4E7UYL2|   41238378|B00H5BMH44|      81025991|2015-08-31 00:00:00|\n",
            "|R196T0NZ73TYIM|   14222739|B005ESMMKE|     459536087|2015-08-31 00:00:00|\n",
            "+--------------+-----------+----------+--------------+-------------------+\n",
            "only showing top 20 rows\n",
            "\n"
          ]
        }
      ],
      "source": [
        "from pyspark.sql.functions import to_date\n",
        "# Read in the Review dataset as a DataFrame\n",
        "review_id_df = df.select([\"review_id\", \"customer_id\", \"product_id\", \"product_parent\", \"review_date\"])\n",
        "review_id_df.show()\n"
      ]
    },
    {
      "cell_type": "code",
      "execution_count": null,
      "metadata": {
        "id": "5t2xD7p2uD-E"
      },
      "outputs": [],
      "source": []
    },
    {
      "cell_type": "code",
      "execution_count": null,
      "metadata": {
        "colab": {
          "base_uri": "https://localhost:8080/"
        },
        "id": "jKRCyRgVrd4G",
        "outputId": "b950ed96-80e4-4c79-c240-819ad2a83c2e"
      },
      "outputs": [
        {
          "name": "stdout",
          "output_type": "stream",
          "text": [
            "+-----------+--------------+\n",
            "|customer_id|customer_count|\n",
            "+-----------+--------------+\n",
            "|   12819130|             2|\n",
            "|   50079826|             2|\n",
            "|    3399669|             1|\n",
            "|   23344898|             1|\n",
            "|   42139031|             1|\n",
            "|   48994143|             1|\n",
            "|     768171|             1|\n",
            "|   29907188|             1|\n",
            "|   28161223|             1|\n",
            "|     184483|             1|\n",
            "|     225566|             1|\n",
            "|   42628722|             1|\n",
            "|    2903234|             1|\n",
            "|   11285702|             2|\n",
            "|   15423461|             1|\n",
            "|   30717827|             1|\n",
            "|   35594973|             1|\n",
            "|   20157057|             1|\n",
            "|   27747830|             1|\n",
            "|   11150152|             1|\n",
            "+-----------+--------------+\n",
            "only showing top 20 rows\n",
            "\n"
          ]
        }
      ],
      "source": [
        "# Create the customers_table DataFrame\n",
        "customers_df = df.groupby(\"customer_id\").agg({\"customer_id\":\"count\"}).withColumnRenamed(\"count(customer_id)\",\"customer_count\")\n",
        "customers_df.show()\n"
      ]
    },
    {
      "cell_type": "code",
      "execution_count": null,
      "metadata": {
        "colab": {
          "base_uri": "https://localhost:8080/"
        },
        "id": "EMzXYPMqrd91",
        "outputId": "f8d0082b-89d7-47a3-b3fc-ada8c2480ce5"
      },
      "outputs": [
        {
          "name": "stdout",
          "output_type": "stream",
          "text": [
            "+----------+--------------------+\n",
            "|product_id|       product_title|\n",
            "+----------+--------------------+\n",
            "|B00CHQKNUM|Amazon.com Gift C...|\n",
            "|B00CRQ4ZOM|Amazon Gift Card ...|\n",
            "|B00H5BMZ32|Amazon eGift Card...|\n",
            "|BT00CTP84S|Amazon.com Gift C...|\n",
            "|B004LLILN2|Amazon eGift Card...|\n",
            "|B00N59437O|Amazon Gift Card ...|\n",
            "|B005J0444E|Amazon.com Gift C...|\n",
            "|B00E1QB2K6|Amazon Gift Card ...|\n",
            "|B004LLJ6IQ|Amazon Gift Card ...|\n",
            "|B004LLILQ4|Amazon eGift Card...|\n",
            "|B0091JL2CQ|Amazon.com Gift C...|\n",
            "|B0062ONNL6|Amazon Gift Card ...|\n",
            "|BT00CTP0N2|Amazon.com Gift C...|\n",
            "|B009I1Z11U|Amazon Video Gift...|\n",
            "|B009LLWBTM|Amazon Video Gift...|\n",
            "|B00BWDHS04|Amazon Gift Card ...|\n",
            "|B0091JKZYW|Amazon.com Gift C...|\n",
            "|B004LLJ6C2|Amazon Gift Card ...|\n",
            "|B007V6ETDK|Amazon eGift Card...|\n",
            "|B005Z3D5OU|Amazon.com Gift C...|\n",
            "+----------+--------------------+\n",
            "only showing top 20 rows\n",
            "\n"
          ]
        }
      ],
      "source": [
        "# Create the products_table DataFrame and drop duplicates. \n",
        "products_df = df.select([\"product_id\",\"product_title\"]).drop_duplicates()\n",
        "products_df.show()\n"
      ]
    },
    {
      "cell_type": "code",
      "execution_count": null,
      "metadata": {
        "colab": {
          "base_uri": "https://localhost:8080/"
        },
        "id": "lzeYzIx2reBN",
        "outputId": "0838e57d-7d31-462a-bb55-7bec32168596"
      },
      "outputs": [
        {
          "name": "stdout",
          "output_type": "stream",
          "text": [
            "+--------------+-----------+----------+--------------+-----------+\n",
            "|     review_id|customer_id|product_id|product_parent|review_date|\n",
            "+--------------+-----------+----------+--------------+-----------+\n",
            "|R27ZP1F1CD0C3Y|   24371595|B004LLIL5A|     346014806| 2015-08-31|\n",
            "| RJ7RSBCHUDNNE|   42489718|B004LLIKVU|     473048287| 2015-08-31|\n",
            "|R1HVYBSKLQJI5S|     861463|B00IX1I3G6|     926539283| 2015-08-31|\n",
            "|R2HAXF0IIYQBIR|   25283295|B00IX1I3G6|     926539283| 2015-08-31|\n",
            "| RNYLPX611NB7Q|     397970|B005ESMGV4|     379368939| 2015-08-31|\n",
            "|R3ALA9XXMBEDZR|   18513645|B004KNWWU4|     326384774| 2015-08-31|\n",
            "|R3R8PHAVJFTPDF|   22484620|B004LLIKVU|     473048287| 2015-08-31|\n",
            "|R18WWEK8OIXE30|   14765851|BT00CTP2EE|     775486538| 2015-08-31|\n",
            "|R1EGUNQON2J277|   18751931|B004LLIKVU|     473048287| 2015-08-31|\n",
            "|R21Z4M4L98CPU2|   15100528|B004W8D102|     595099956| 2015-08-31|\n",
            "| R6JH7A117FHFA|    3559726|B004LLIKVU|     473048287| 2015-08-31|\n",
            "|R1XZHS8M1GCGI7|   23413911|B004KNWWU4|     326384774| 2015-08-31|\n",
            "|R1DAI0N03SKRJN|    2026222|B004LLIKVU|     473048287| 2015-08-31|\n",
            "|R2F6SKZOEYQRU3|   32956435|B004LLIKVU|     473048287| 2015-08-31|\n",
            "| RIBOP6OEAZA47|   20241560|B00H5BNLUS|     637715957| 2015-08-31|\n",
            "|R15H8E7WD6XD29|   10670435|B004KNWX6C|     763371347| 2015-08-31|\n",
            "| RVN4P3RU4F8IE|   48872127|BT00CTOYC0|     506740729| 2015-08-31|\n",
            "| RCS8F9JCAAXC7|     460630|B004LLIKVU|     473048287| 2015-08-31|\n",
            "| R6811C4E7UYL2|   41238378|B00H5BMH44|      81025991| 2015-08-31|\n",
            "|R196T0NZ73TYIM|   14222739|B005ESMMKE|     459536087| 2015-08-31|\n",
            "+--------------+-----------+----------+--------------+-----------+\n",
            "only showing top 20 rows\n",
            "\n"
          ]
        }
      ],
      "source": [
        "# Create the review_id_table DataFrame. \n",
        " #Convert the 'review_date' column to a date datatype with to_date(\"review_date\", 'yyyy-MM-dd').alias(\"review_date\")\n",
        "review_id_df = df.select([\"review_id\",\"customer_id\",\"product_id\",\"product_parent\", to_date(\"review_date\", 'yyyy-MM-dd').alias(\"review_date\")])\n",
        "review_id_df.show()"
      ]
    },
    {
      "cell_type": "code",
      "execution_count": null,
      "metadata": {
        "colab": {
          "base_uri": "https://localhost:8080/"
        },
        "id": "3jcQP_5N-_2D",
        "outputId": "5d45e842-0622-40ba-ab6e-6a81ba68a571"
      },
      "outputs": [
        {
          "name": "stdout",
          "output_type": "stream",
          "text": [
            "+--------------+-----------+-----------+-------------+-----------+----+\n",
            "|     review_id|customer_id|star_rating|helpful_votes|total_votes|vine|\n",
            "+--------------+-----------+-----------+-------------+-----------+----+\n",
            "|R27ZP1F1CD0C3Y|   24371595|          5|            0|          0|   N|\n",
            "| RJ7RSBCHUDNNE|   42489718|          5|            0|          0|   N|\n",
            "|R1HVYBSKLQJI5S|     861463|          5|            0|          0|   N|\n",
            "|R2HAXF0IIYQBIR|   25283295|          1|            0|          0|   N|\n",
            "| RNYLPX611NB7Q|     397970|          5|            0|          0|   N|\n",
            "|R3ALA9XXMBEDZR|   18513645|          5|            0|          0|   N|\n",
            "|R3R8PHAVJFTPDF|   22484620|          5|            0|          0|   N|\n",
            "|R18WWEK8OIXE30|   14765851|          5|            0|          0|   N|\n",
            "|R1EGUNQON2J277|   18751931|          1|            0|          0|   N|\n",
            "|R21Z4M4L98CPU2|   15100528|          5|            0|          0|   N|\n",
            "| R6JH7A117FHFA|    3559726|          5|            0|          0|   N|\n",
            "|R1XZHS8M1GCGI7|   23413911|          5|            1|          1|   N|\n",
            "|R1DAI0N03SKRJN|    2026222|          5|            1|          1|   N|\n",
            "|R2F6SKZOEYQRU3|   32956435|          5|            0|          0|   N|\n",
            "| RIBOP6OEAZA47|   20241560|          5|            1|          1|   N|\n",
            "|R15H8E7WD6XD29|   10670435|          5|            0|          0|   N|\n",
            "| RVN4P3RU4F8IE|   48872127|          5|            0|          0|   N|\n",
            "| RCS8F9JCAAXC7|     460630|          4|            0|          0|   N|\n",
            "| R6811C4E7UYL2|   41238378|          5|            0|          0|   N|\n",
            "|R196T0NZ73TYIM|   14222739|          5|            1|          1|   N|\n",
            "+--------------+-----------+-----------+-------------+-----------+----+\n",
            "only showing top 20 rows\n",
            "\n"
          ]
        }
      ],
      "source": [
        "# Create the vine_table. DataFrame\n",
        "vine_df = df.select([\"review_id\", \"customer_id\", \"star_rating\",\"helpful_votes\", \"total_votes\",\"vine\"])\n",
        "vine_df.show()"
      ]
    },
    {
      "cell_type": "code",
      "execution_count": null,
      "metadata": {
        "id": "8sk9eDrhmiHZ"
      },
      "outputs": [],
      "source": [
        "# Configure settings for RDS\n",
        "mode = \"append\"\n",
        "jdbc_url=\"jdbc:postgresql://amazon-reviews-etl.cirp5aqpivlh.us-east-2.rds.amazonaws.com:5432/<dataAWS>\"\n",
        "config = {\"user\":\"postgres\", \n",
        "          \"password\": \"<password>\", \n",
        "          \"driver\":\"org.postgresql.Driver\"}\n",
        "# Store environmental variable\n",
        "from getpass import getpass  <------------------ need this \n",
        "password = getpass('Enter database password') <-------------------- and this \n",
        "# Configure settings for RDS\n",
        "mode = \"append\"\n",
        "jdbc_url=\"jdbc:postgresql://<connection string>:5432/<database-name>\"  \n",
        "config = {\"user\":\"postgres\",\n",
        "          \"password\": password,  <---------------------------\n",
        "          \"driver\":\"org.postgresql.Driver\"}\n"
      ]
    },
    {
      "cell_type": "code",
      "execution_count": null,
      "metadata": {
        "id": "wTQ88TEG_AAc"
      },
      "outputs": [],
      "source": []
    },
    {
      "cell_type": "code",
      "execution_count": null,
      "metadata": {
        "colab": {
          "base_uri": "https://localhost:8080/",
          "height": 133
        },
        "id": "N6tDhwIJsFrz",
        "outputId": "3e6b1518-a1e8-4b4e-9d23-c03fd4e28746"
      },
      "outputs": [
        {
          "ename": "SyntaxError",
          "evalue": "ignored",
          "output_type": "error",
          "traceback": [
            "\u001b[0;36m  File \u001b[0;32m\"<ipython-input-19-aa9c6a463275>\"\u001b[0;36m, line \u001b[0;32m2\u001b[0m\n\u001b[0;31m    review_id_df.write.jdbc(url=jdbc_url, table='review_id_table', mode=mode, properties=c\u001b[0m\n\u001b[0m                                                                                          ^\u001b[0m\n\u001b[0;31mSyntaxError\u001b[0m\u001b[0;31m:\u001b[0m unexpected EOF while parsing\n"
          ]
        }
      ],
      "source": [
        "# Write review_id_df to table in RDS\n",
        "review_id_df.write.jdbc(url=jdbc_url, table='review_id_table', mode=mode, properties=c"
      ]
    },
    {
      "cell_type": "code",
      "execution_count": null,
      "metadata": {
        "colab": {
          "base_uri": "https://localhost:8080/",
          "height": 133
        },
        "id": "iqXL6DyIsFvp",
        "outputId": "ce47eacd-a38a-4e59-a0f2-dc2f648b96bc"
      },
      "outputs": [
        {
          "ename": "SyntaxError",
          "evalue": "ignored",
          "output_type": "error",
          "traceback": [
            "\u001b[0;36m  File \u001b[0;32m\"<ipython-input-20-88bc82f75571>\"\u001b[0;36m, line \u001b[0;32m3\u001b[0m\n\u001b[0;31m    products_df.write.jdbc(url=jdbc_url, table='products_table', mode=mode, properties=con\u001b[0m\n\u001b[0m                                                                                          ^\u001b[0m\n\u001b[0;31mSyntaxError\u001b[0m\u001b[0;31m:\u001b[0m unexpected EOF while parsing\n"
          ]
        }
      ],
      "source": [
        "# Write products_df to table in RDS\n",
        "# about 3 min\n",
        "products_df.write.jdbc(url=jdbc_url, table='products_table', mode=mode, properties=con"
      ]
    },
    {
      "cell_type": "code",
      "execution_count": null,
      "metadata": {
        "id": "lFsGRayqsFyy"
      },
      "outputs": [],
      "source": [
        "# Write customers_df to table in RDS\n",
        "# 5 min 14 s\n",
        "customers_df.write.jdbc(url=jdbc_url, table='customers_table', mode=mode, properties=c"
      ]
    },
    {
      "cell_type": "code",
      "execution_count": null,
      "metadata": {
        "id": "3G3oObDmsF2L"
      },
      "outputs": [],
      "source": [
        "# Write vine_df to table in RDS\n",
        "# 11 minutes\n",
        "vine_df.write.jdbc(url=jdbc_url, table='vine_table', mode=mode, properties=config)"
      ]
    }
  ],
  "metadata": {
    "colab": {
      "collapsed_sections": [],
      "provenance": []
    },
    "kernelspec": {
      "display_name": "Python 3",
      "name": "python3"
    },
    "language_info": {
      "name": "python"
    }
  },
  "nbformat": 4,
  "nbformat_minor": 0
}
